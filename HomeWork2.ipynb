{
 "cells": [
  {
   "cell_type": "markdown",
   "metadata": {},
   "source": [
    "#Задание 1. \n",
    "Даны 2 строки: long_phrase и short_phrase. Напишите код, который проверяет действительно ли длинная фраза long_phrase длиннее короткой short_phrase. И выводит True или False в зависимости от результата сравнения."
   ]
  },
  {
   "cell_type": "code",
   "execution_count": 1,
   "metadata": {
    "scrolled": true
   },
   "outputs": [
    {
     "name": "stdout",
     "output_type": "stream",
     "text": [
      "True\n"
     ]
    }
   ],
   "source": [
    "long_phrase = 'Насколько проще было бы писать программы, если бы не заказчики'\n",
    "short_phrase = '640Кб должно хватить для любых задач. Билл Гейтс (по легенде)'\n",
    "print(len(long_phrase) > len(short_phrase))"
   ]
  },
  {
   "cell_type": "markdown",
   "metadata": {},
   "source": [
    "--Задание 2. Дано значение объема файла в байтах (в мегабайте 2^20 байт). Напишите перевод этого значения в мегабайты в формате: \"Объем файла равен 213.68Mb\"."
   ]
  },
  {
   "cell_type": "code",
   "execution_count": 11,
   "metadata": {},
   "outputs": [
    {
     "name": "stdout",
     "output_type": "stream",
     "text": [
      "Объем файла равен 1907.35Mb\n"
     ]
    }
   ],
   "source": [
    "Vbait = 2000000000\n",
    "print('Объем файла равен %.2f' % ( Vbait/2**20) + 'Mb')"
   ]
  },
  {
   "cell_type": "markdown",
   "metadata": {},
   "source": [
    "\n",
    "--Задание 3.-- Разработать приложение для определения знака зодиака по дате рождения. Пример:\n",
    "\n",
    "Введите месяц: март\n",
    "\n",
    "Введите число: 6\n",
    "\n",
    "Вывод: Рыбы"
   ]
  },
  {
   "cell_type": "code",
   "execution_count": 21,
   "metadata": {},
   "outputs": [
    {
     "name": "stdout",
     "output_type": "stream",
     "text": [
      "Введите месяц октябрь\n",
      "Введите число 3\n",
      "Весы\n"
     ]
    }
   ],
   "source": [
    "mounth = input('Введите месяц ')\n",
    "day = int(input('Введите число '))\n",
    "if ( mounth == 'март' and 21<=day<=31) or ( mounth == 'апрель' and 1<=day<=20) :\n",
    "    print('Овен')\n",
    "elif ( mounth == 'апрель' and 21<=day<=30) or ( mounth == 'май' and 1<=day<=20) :\n",
    "    print('Телец')\n",
    "elif ( mounth == 'май' and 21<=day<=31) or ( mounth == 'июнь' and 1<=day<=20) :\n",
    "    print('Близнецы')\n",
    "elif ( mounth == 'июнь' and 21<=day<=30) or ( mounth == 'июль' and 1<=day<=22) :\n",
    "    print('Рак')\n",
    "elif ( mounth == 'июль' and 23<=day<=31) or ( mounth == 'август' and 1<=day<=22) :\n",
    "    print('Лев')\n",
    "elif ( mounth == 'август' and 23<=day<=31) or ( mounth == 'сентябрь' and 1<=day<=22) :\n",
    "    print('Дева')\n",
    "elif ( mounth == 'сентябрь' and 23<=day<=30) or ( mounth == 'октябрь' and 1<=day<=22) :\n",
    "    print('Весы')\n",
    "elif ( mounth == 'октябрь' and 23<=day<=31) or ( mounth == 'ноябрь' and 1<=day<=22) :\n",
    "    print('Скорпион')\n",
    "elif ( mounth == 'ноябрь' and 23<=day<=30) or ( mounth == 'декабрь' and 1<=day<=21) :\n",
    "    print('Стрелец')\n",
    "elif ( mounth == 'декабрь' and 22<=day<=31) or ( mounth == 'январь' and 1<=day<=19) :\n",
    "    print('Козерог')\n",
    "elif ( mounth == 'январь' and 20<=day<=31) or ( mounth == 'февраль' and 1<=day<=19) :\n",
    "    print('Водолей')\n",
    "elif ( mounth == 'февраль' and 21<=day<=28) or ( mounth == 'март' and 1<=day<=20) :\n",
    "    print('Рыба')\n",
    "else:\n",
    "    print('Проверьте корректность ввода месяца и даты')"
   ]
  },
  {
   "cell_type": "code",
   "execution_count": null,
   "metadata": {},
   "outputs": [],
   "source": []
  }
 ],
 "metadata": {
  "kernelspec": {
   "display_name": "Python 3",
   "language": "python",
   "name": "python3"
  },
  "language_info": {
   "codemirror_mode": {
    "name": "ipython",
    "version": 3
   },
   "file_extension": ".py",
   "mimetype": "text/x-python",
   "name": "python",
   "nbconvert_exporter": "python",
   "pygments_lexer": "ipython3",
   "version": "3.7.6"
  }
 },
 "nbformat": 4,
 "nbformat_minor": 4
}
